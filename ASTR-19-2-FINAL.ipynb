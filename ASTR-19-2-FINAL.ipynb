{
 "cells": [
  {
   "cell_type": "markdown",
   "id": "b708d0df",
   "metadata": {},
   "source": [
    "#Astronomy 19 Final Project\n",
    "\n",
    "Author: April Ewers"
   ]
  }
 ],
 "metadata": {
  "kernelspec": {
   "display_name": "Python 3",
   "language": "python",
   "name": "python3"
  },
  "language_info": {
   "name": "python",
   "version": "3.13.2"
  }
 },
 "nbformat": 4,
 "nbformat_minor": 5
}
